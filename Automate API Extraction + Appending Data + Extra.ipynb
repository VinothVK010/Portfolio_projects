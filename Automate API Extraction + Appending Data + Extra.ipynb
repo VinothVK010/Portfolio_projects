{
 "cells": [
  {
   "cell_type": "code",
   "execution_count": null,
   "id": "0e1a3bce",
   "metadata": {},
   "outputs": [],
   "source": [
    "from requests import Request, Session\n",
    "from requests.exceptions import ConnectionError, Timeout, TooManyRedirects\n",
    "import json\n",
    "\n",
    "url = 'https://pro-api.coinmarketcap.com/v1/cryptocurrency/listings/latest' \n",
    "#Original Sandbox Environment: 'https://sandbox-api.coinmarketcap.com/v1/cryptocurrency/listings/latest'\n",
    "parameters = {\n",
    "  'start':'1',\n",
    "  'limit':'15',\n",
    "  'convert':'USD'\n",
    "}\n",
    "headers = {\n",
    "  'Accepts': 'application/json',\n",
    "  'X-CMC_PRO_API_KEY': '0ad53085-1cb2-4eb8-ad9e-3ffbd7e56509',\n",
    "}\n",
    "\n",
    "session = Session()\n",
    "session.headers.update(headers)\n",
    "\n",
    "try:\n",
    "  response = session.get(url, params=parameters)\n",
    "  data = json.loads(response.text)\n",
    "  #print(data)\n",
    "except (ConnectionError, Timeout, TooManyRedirects) as e:\n",
    "  print(e)"
   ]
  },
  {
   "cell_type": "code",
   "execution_count": null,
   "id": "8ac9272f",
   "metadata": {},
   "outputs": [],
   "source": [
    "type(data)"
   ]
  },
  {
   "cell_type": "code",
   "execution_count": null,
   "id": "8d155ebf",
   "metadata": {},
   "outputs": [],
   "source": [
    "import pandas as pd\n",
    "import datetime\n",
    "\n",
    "\n",
    "#This allows you to see all the columns, not just like 15\n",
    "pd.set_option('display.max_columns', None)\n",
    "pd.set_option('display.max_rows', None)\n"
   ]
  },
  {
   "cell_type": "code",
   "execution_count": null,
   "id": "3111b0f7",
   "metadata": {},
   "outputs": [],
   "source": [
    "#This normalizes the data and makes it all pretty in a dataframe\n",
    "\n",
    "df = pd.json_normalize(data['data'])\n",
    "df['timestamp'] = pd.to_datetime(datetime.datetime.now())\n",
    "df"
   ]
  },
  {
   "cell_type": "code",
   "execution_count": null,
   "id": "2b2eb108",
   "metadata": {},
   "outputs": [],
   "source": [
    "def api_runner():\n",
    "    global df\n",
    "    url = 'https://pro-api.coinmarketcap.com/v1/cryptocurrency/listings/latest' \n",
    "    #Original Sandbox Environment: 'https://sandbox-api.coinmarketcap.com/v1/cryptocurrency/listings/latest'\n",
    "    parameters = {\n",
    "      'start':'1',\n",
    "      'limit':'15',\n",
    "      'convert':'USD'\n",
    "    }\n",
    "    headers = {\n",
    "      'Accepts': 'application/json',\n",
    "      'X-CMC_PRO_API_KEY': '0ad53085-1cb2-4eb8-ad9e-3ffbd7e56509',\n",
    "    }\n",
    "\n",
    "    session = Session()\n",
    "    session.headers.update(headers)\n",
    "\n",
    "    try:\n",
    "      response = session.get(url, params=parameters)\n",
    "      data = json.loads(response.text)\n",
    "      #print(data)\n",
    "    except (ConnectionError, Timeout, TooManyRedirects) as e:\n",
    "      print(e)\n",
    "    \n",
    "  # Use this if you just want to keep it in a dataframe\n",
    "    df2 = pd.json_normalize(data['data'])\n",
    "    df['timestamp'] = pd.to_datetime(datetime.datetime.now())  \n",
    "    df = df.append(df2)\n",
    "\n",
    "\n",
    "    # Use this if you want to create a csv and append data to it\n",
    "    #df = pd.json_normalize(data['data'])\n",
    "    #df['timestamp'] = pd.to_datetime('now')\n",
    "    #df\n",
    "\n",
    "    #if not os.path.isfile(r'C:\\Users\\alexf\\OneDrive\\Documents\\Python Scripts\\API.csv'):\n",
    "        #df.to_csv(r'C:\\Users\\alexf\\OneDrive\\Documents\\Python Scripts\\API.csv', header='column_names')\n",
    "    #else:\n",
    "        #df.to_csv(r'C:\\Users\\alexf\\OneDrive\\Documents\\Python Scripts\\API.csv', mode='a', header=False)\n",
    "        \n",
    "    #Then to read in the file: df = pd.read_csv(r'C:\\Users\\alexf\\OneDrive\\Documents\\Python Scripts\\API.csv')"
   ]
  },
  {
   "cell_type": "code",
   "execution_count": null,
   "id": "94839fd9",
   "metadata": {},
   "outputs": [],
   "source": [
    "import os \n",
    "from time import time\n",
    "from time import sleep\n",
    "\n",
    "for i in range(400):\n",
    "    api_runner()\n",
    "    print('API Runner completed')\n",
    "    sleep(60) #sleep for 1 minute\n",
    "exit()"
   ]
  },
  {
   "cell_type": "code",
   "execution_count": null,
   "id": "73b1c16a",
   "metadata": {},
   "outputs": [],
   "source": [
    "df"
   ]
  },
  {
   "cell_type": "code",
   "execution_count": 11,
   "id": "3118ae89",
   "metadata": {},
   "outputs": [],
   "source": [
    "# One thing I noticed was the scientific notation. I like it, but I want to be able to see the numbers in this case\n",
    "\n",
    "pd.set_option('display.float_format', lambda x: '%.5f' % x)"
   ]
  },
  {
   "cell_type": "code",
   "execution_count": null,
   "id": "1082036b",
   "metadata": {},
   "outputs": [],
   "source": [
    "df"
   ]
  },
  {
   "cell_type": "code",
   "execution_count": 15,
   "id": "ba4a6a15",
   "metadata": {},
   "outputs": [],
   "source": [
    "df3 = df.groupby('name', sort=False)[['quote.USD.percent_change_1h','quote.USD.percent_change_24h','quote.USD.percent_change_7d','quote.USD.percent_change_30d','quote.USD.percent_change_60d','quote.USD.percent_change_90d']].mean()\n",
    "df3"
   ]
  },
  {
   "cell_type": "code",
   "execution_count": 17,
   "id": "eee8b7ae",
   "metadata": {},
   "outputs": [],
   "source": [
    "df4 = df3.stack()\n",
    "df4"
   ]
  },
  {
   "cell_type": "code",
   "execution_count": 43,
   "id": "365e73c0",
   "metadata": {},
   "outputs": [],
   "source": [
    "df5 = df4.to_frame(name='values')\n",
    "df5"
   ]
  },
  {
   "cell_type": "code",
   "execution_count": 21,
   "id": "5827a35d",
   "metadata": {},
   "outputs": [
    {
     "data": {
      "text/plain": [
       "values    90\n",
       "dtype: int64"
      ]
     },
     "execution_count": 21,
     "metadata": {},
     "output_type": "execute_result"
    }
   ],
   "source": [
    "df5.count()"
   ]
  },
  {
   "cell_type": "code",
   "execution_count": 36,
   "id": "aaa94d7c",
   "metadata": {},
   "outputs": [],
   "source": [
    "#Because of how it's structured above we need to set an index. I don't want to pass a column as an index for this dataframe\n",
    "#So I'm going to create a range and pass that as the dataframe. You can make this more dynamic, but I'm just going to hard code\n",
    "\n",
    "index = pd.Index(range(90))\n",
    "\n",
    "df6 = df5.reset_index()\n",
    "df6"
   ]
  },
  {
   "cell_type": "code",
   "execution_count": 35,
   "id": "66951e6f",
   "metadata": {},
   "outputs": [],
   "source": [
    "# Change the column name\n",
    "\n",
    "df7 = df6.rename(columns={'level_1': 'percent_change'})\n",
    "df7"
   ]
  },
  {
   "cell_type": "code",
   "execution_count": 42,
   "id": "d47d16da",
   "metadata": {},
   "outputs": [],
   "source": [
    "df7['percent_change'] = df7['percent_change'].replace(['quote.USD.percent_change_1h','quote.USD.percent_change_24h','quote.USD.percent_change_7d','quote.USD.percent_change_30d','quote.USD.percent_change_60d','quote.USD.percent_change_90d'],['1','24h','7d','30d','60d','90d'])\n",
    "df7"
   ]
  },
  {
   "cell_type": "code",
   "execution_count": null,
   "id": "8d712c67",
   "metadata": {},
   "outputs": [],
   "source": [
    "import seaborn as sns \n",
    "import matplotlib.pyplot as plt\n",
    "\n",
    "sns.catplot(x = 'percent_change', y = 'values', hue = 'name', data = df7, kind = 'point')\n"
   ]
  },
  {
   "cell_type": "code",
   "execution_count": null,
   "id": "f3027dd7",
   "metadata": {},
   "outputs": [],
   "source": [
    "# Now to do something much simpler\n",
    "# we are going to create a dataframe with the columns we want\n",
    "\n",
    "df10 = df[['name','quote.USD.price','timestamp']]\n",
    "df10 = df10.query(\"name == 'Bitcoin'\")\n",
    "df10"
   ]
  },
  {
   "cell_type": "code",
   "execution_count": null,
   "id": "6e90eeeb",
   "metadata": {},
   "outputs": [],
   "source": []
  }
 ],
 "metadata": {
  "kernelspec": {
   "display_name": "Python 3 (ipykernel)",
   "language": "python",
   "name": "python3"
  },
  "language_info": {
   "codemirror_mode": {
    "name": "ipython",
    "version": 3
   },
   "file_extension": ".py",
   "mimetype": "text/x-python",
   "name": "python",
   "nbconvert_exporter": "python",
   "pygments_lexer": "ipython3",
   "version": "3.11.4"
  }
 },
 "nbformat": 4,
 "nbformat_minor": 5
}
